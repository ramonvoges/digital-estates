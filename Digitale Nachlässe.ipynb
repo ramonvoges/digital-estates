{
 "cells": [
  {
   "cell_type": "markdown",
   "id": "8ee34baa-b509-4977-953d-d43e69dfee05",
   "metadata": {},
   "source": [
    "# Digitale Nachlässe\n",
    "\n",
    "Zunächst müssen die notwendigen Bibliotheken geladen und importiert werden.\n",
    "\n",
    "* `os`: Diese Bibliothek wird verwendet, um mit dem Betriebssystem zu interagieren, z.B. um Dateien und Verzeichnisse zu durchsuchen.\n",
    "* `pandas`: Eine leistungsstarke Bibliothek zur Datenanalyse und -manipulation.\n",
    "* `datetime`: Wird verwendet, um Datums- und Zeitinformationen zu verarbeiten.\n",
    "* `sys`: Ermöglicht den Zugriff auf System-spezifische Parameter und Funktionen.\n",
    "* `requests`: Eine Bibliothek zum Senden von HTTP-Anfragen.\n",
    "* `BeautifulSoup`: Ein Werkzeug zum Parsen von HTML- und XML-Dokumenten."
   ]
  },
  {
   "cell_type": "markdown",
   "id": "29551614-6e25-4221-9c42-d8ba7b0ca47b",
   "metadata": {},
   "source": [
    "Um die Bibliotheken zunächst zu installieren, kann das Kokmmentar in der nächsten Zeile entfernt werden. Dann einfach die Zelle ausführen. "
   ]
  },
  {
   "cell_type": "code",
   "execution_count": 1,
   "id": "e1ae82c3-d2e7-4c35-957d-957073a8851f",
   "metadata": {},
   "outputs": [],
   "source": [
    "# !pip install pandas requests beautifulsoup4 lxml openpyxl"
   ]
  },
  {
   "cell_type": "code",
   "execution_count": 2,
   "id": "801f24c7-c6e1-455a-b56f-eda2f666fa51",
   "metadata": {},
   "outputs": [],
   "source": [
    "import os\n",
    "import pandas as pd\n",
    "from datetime import datetime\n",
    "import requests\n",
    "from bs4 import BeautifulSoup"
   ]
  },
  {
   "cell_type": "markdown",
   "id": "ec99afc6-d297-4cea-9e46-bcf6d388c936",
   "metadata": {},
   "source": [
    "## Funktion zum Sammeln der Informationen\n",
    "\n",
    "Die folgende Funktion durchsucht ein angegebenes Verzeichnis (`directory_path`) und sammelt Informationen über jede Datei darin. Sie speichert diese Informationen in einer Liste von Wörterbüchern namens `file_info_list` und gibt dieses als Rückgabewert zurück. Für jede Datei legt sie ein eigenes Wörterbuch `file_info` an."
   ]
  },
  {
   "cell_type": "code",
   "execution_count": 3,
   "id": "897e6609-a647-41ef-aecc-17a0581fda8e",
   "metadata": {},
   "outputs": [],
   "source": [
    "def get_file_info(directory_path):\n",
    "    file_info_list = []\n",
    "    for root, dirs, files in os.walk(directory_path):\n",
    "        for i, file in enumerate(files, start=1):\n",
    "            file_path = os.path.join(root, file)\n",
    "            file_stats = os.stat(file_path)\n",
    "            file_extension = os.path.splitext(file)[1]\n",
    "            #file_type = get_file_type(file_path)\n",
    "            file_info = {\n",
    "                \"Laufende Nummer\": i,\n",
    "                \"Dateiname\": file,\n",
    "                \"Dateiendung\": file_extension,\n",
    "                \"Dateipfad\": file_path,\n",
    "                \"Änderungsdatum\": datetime.fromtimestamp(file_stats.st_mtime).strftime('%Y-%m-%d %H:%M:%S'),\n",
    "                \"Erstellungsdatum\": datetime.fromtimestamp(file_stats.st_ctime).strftime('%Y-%m-%d %H:%M:%S'),\n",
    "                \"Dateigröße (Bytes)\": file_stats.st_size,\n",
    "                #\"Dateityp\": file_type,\n",
    "                \"Bemerkungen\": \"\"\n",
    "            }\n",
    "            file_info_list.append(file_info)\n",
    "    return file_info_list"
   ]
  },
  {
   "cell_type": "markdown",
   "id": "07e8fcf9-2d42-48d8-9e9e-27dca5d240e0",
   "metadata": {},
   "source": [
    "Falls ein [FITS-Server](https://projects.iq.harvard.edu/fits/fits-web-service) zur Verfügung steht, können die Kommentare in den beiden auskommentierten Zeilen wieder entfernt werden."
   ]
  },
  {
   "cell_type": "markdown",
   "id": "48a37d07-48bd-455c-a939-c3d15e837529",
   "metadata": {},
   "source": [
    "## Funktion zum Abrufen des Dateityps\n",
    "\n",
    "Die nächste Funktion sendet eine Datei an einen FITS-Server, der den Dateityp bestimmt, und gibt diesen zurück. Wenn der Dienst den Dateityp nicht bestimmen kann, wird \"Unbekannt\" zurückgegeben. Die Funktion wird nicht benötigt, wenn kein FITS-Server zur Verfügung steht."
   ]
  },
  {
   "cell_type": "code",
   "execution_count": 4,
   "id": "a24d39bb-6515-4369-9979-45f4664623e1",
   "metadata": {},
   "outputs": [],
   "source": [
    "def get_file_type(file_path):\n",
    "    url = \"http://etc.dnb.de.appr/fits/examine\" # Nur im Netz der DNB erreichbar\n",
    "    with open(file_path, 'rb') as file:\n",
    "        response = requests.post(url, files={'datafile': file}, verify=False)\n",
    "    if response.status_code == 200:\n",
    "        soup = BeautifulSoup(response.content, 'lxml-xml')\n",
    "        format_element = soup.find('identity', format=True) # Durchsucht das XML nach der Angabe des Datetyps\n",
    "        if format_element:\n",
    "            return format_element['format']\n",
    "    return \"Unbekannt\""
   ]
  },
  {
   "cell_type": "markdown",
   "id": "722ca672-8a0a-4268-9144-3643f7a3c119",
   "metadata": {},
   "source": [
    "## Angaben sammeln und speichern"
   ]
  },
  {
   "cell_type": "markdown",
   "id": "53ffaaed-3ff7-4ffa-aa35-d51107a704a9",
   "metadata": {},
   "source": [
    "In welchem Verzeichnis sollen die Metadaten der Dateien bestimmt werden? Kommentar entfernen und den Pfad angeben."
   ]
  },
  {
   "cell_type": "code",
   "execution_count": 5,
   "id": "78a254e5-1c2d-4697-85aa-a7f2c41f535a",
   "metadata": {},
   "outputs": [],
   "source": [
    "# directory_path = \"path/to/your/directory\"\n",
    "directory_path = \"/home/ramon/Downloads\""
   ]
  },
  {
   "cell_type": "markdown",
   "id": "fc9dd44b-89df-46ea-867a-5d488cf40a2d",
   "metadata": {},
   "source": [
    "Als nächstes wird die Liste mit den Angaben zu den Dateien erstellt, in dem die oben definierte Funktion aufgerufen wird:"
   ]
  },
  {
   "cell_type": "code",
   "execution_count": 6,
   "id": "02cd0e50-a755-40ec-80f2-d11c64120c38",
   "metadata": {},
   "outputs": [],
   "source": [
    "file_info_list = get_file_info(directory_path)"
   ]
  },
  {
   "cell_type": "markdown",
   "id": "967ec4b3-6aa0-4c8d-b894-c9bf1999ce3b",
   "metadata": {},
   "source": [
    "Diese Liste mit Wörterbüchern ist die Grundlage für einen Dataframe:"
   ]
  },
  {
   "cell_type": "code",
   "execution_count": 7,
   "id": "39b5f080-3712-4c3e-9c91-9ea00fb4e825",
   "metadata": {},
   "outputs": [
    {
     "data": {
      "text/html": [
       "<div>\n",
       "<style scoped>\n",
       "    .dataframe tbody tr th:only-of-type {\n",
       "        vertical-align: middle;\n",
       "    }\n",
       "\n",
       "    .dataframe tbody tr th {\n",
       "        vertical-align: top;\n",
       "    }\n",
       "\n",
       "    .dataframe thead th {\n",
       "        text-align: right;\n",
       "    }\n",
       "</style>\n",
       "<table border=\"1\" class=\"dataframe\">\n",
       "  <thead>\n",
       "    <tr style=\"text-align: right;\">\n",
       "      <th></th>\n",
       "      <th>Laufende Nummer</th>\n",
       "      <th>Dateiname</th>\n",
       "      <th>Dateiendung</th>\n",
       "      <th>Dateipfad</th>\n",
       "      <th>Änderungsdatum</th>\n",
       "      <th>Erstellungsdatum</th>\n",
       "      <th>Dateigröße (Bytes)</th>\n",
       "      <th>Bemerkungen</th>\n",
       "    </tr>\n",
       "  </thead>\n",
       "  <tbody>\n",
       "    <tr>\n",
       "      <th>0</th>\n",
       "      <td>1</td>\n",
       "      <td>SourceCodePro.zip</td>\n",
       "      <td>.zip</td>\n",
       "      <td>/home/ramon/Downloads/SourceCodePro.zip</td>\n",
       "      <td>2024-05-31 18:06:17</td>\n",
       "      <td>2024-05-31 18:06:17</td>\n",
       "      <td>50842511</td>\n",
       "      <td></td>\n",
       "    </tr>\n",
       "    <tr>\n",
       "      <th>1</th>\n",
       "      <td>2</td>\n",
       "      <td>FiraCode.zip</td>\n",
       "      <td>.zip</td>\n",
       "      <td>/home/ramon/Downloads/FiraCode.zip</td>\n",
       "      <td>2024-05-31 18:07:50</td>\n",
       "      <td>2024-05-31 18:07:50</td>\n",
       "      <td>24978177</td>\n",
       "      <td></td>\n",
       "    </tr>\n",
       "    <tr>\n",
       "      <th>2</th>\n",
       "      <td>3</td>\n",
       "      <td>Obsidian-1.6.3-arm64.AppImage</td>\n",
       "      <td>.AppImage</td>\n",
       "      <td>/home/ramon/Downloads/Obsidian-1.6.3-arm64.App...</td>\n",
       "      <td>2024-06-10 20:42:44</td>\n",
       "      <td>2024-06-10 20:42:44</td>\n",
       "      <td>113375411</td>\n",
       "      <td></td>\n",
       "    </tr>\n",
       "    <tr>\n",
       "      <th>3</th>\n",
       "      <td>4</td>\n",
       "      <td>Obisidian.png</td>\n",
       "      <td>.png</td>\n",
       "      <td>/home/ramon/Downloads/Obisidian.png</td>\n",
       "      <td>2024-06-11 19:03:38</td>\n",
       "      <td>2024-06-11 19:03:53</td>\n",
       "      <td>43530</td>\n",
       "      <td></td>\n",
       "    </tr>\n",
       "    <tr>\n",
       "      <th>4</th>\n",
       "      <td>5</td>\n",
       "      <td>install_log.txt</td>\n",
       "      <td>.txt</td>\n",
       "      <td>/home/ramon/Downloads/install_log.txt</td>\n",
       "      <td>2024-06-07 19:00:02</td>\n",
       "      <td>2024-06-07 19:00:02</td>\n",
       "      <td>296</td>\n",
       "      <td></td>\n",
       "    </tr>\n",
       "    <tr>\n",
       "      <th>5</th>\n",
       "      <td>6</td>\n",
       "      <td>catppuccin_mocha.theme</td>\n",
       "      <td>.theme</td>\n",
       "      <td>/home/ramon/Downloads/catppuccin_mocha.theme</td>\n",
       "      <td>2024-05-31 20:35:26</td>\n",
       "      <td>2024-05-31 20:35:26</td>\n",
       "      <td>2277</td>\n",
       "      <td></td>\n",
       "    </tr>\n",
       "    <tr>\n",
       "      <th>6</th>\n",
       "      <td>7</td>\n",
       "      <td>setup_raspi5.sh</td>\n",
       "      <td>.sh</td>\n",
       "      <td>/home/ramon/Downloads/setup_raspi5.sh</td>\n",
       "      <td>2024-06-12 11:16:19</td>\n",
       "      <td>2024-06-12 11:16:19</td>\n",
       "      <td>5986</td>\n",
       "      <td></td>\n",
       "    </tr>\n",
       "    <tr>\n",
       "      <th>7</th>\n",
       "      <td>8</td>\n",
       "      <td>JetBrainsMono.zip</td>\n",
       "      <td>.zip</td>\n",
       "      <td>/home/ramon/Downloads/JetBrainsMono.zip</td>\n",
       "      <td>2024-06-12 11:03:38</td>\n",
       "      <td>2024-06-12 11:03:39</td>\n",
       "      <td>117875043</td>\n",
       "      <td></td>\n",
       "    </tr>\n",
       "    <tr>\n",
       "      <th>8</th>\n",
       "      <td>9</td>\n",
       "      <td>setup_raspi5_II.sh</td>\n",
       "      <td>.sh</td>\n",
       "      <td>/home/ramon/Downloads/setup_raspi5_II.sh</td>\n",
       "      <td>2024-06-12 11:17:35</td>\n",
       "      <td>2024-06-12 11:17:35</td>\n",
       "      <td>1484</td>\n",
       "      <td></td>\n",
       "    </tr>\n",
       "    <tr>\n",
       "      <th>9</th>\n",
       "      <td>10</td>\n",
       "      <td>lazygit</td>\n",
       "      <td></td>\n",
       "      <td>/home/ramon/Downloads/lazygit</td>\n",
       "      <td>2024-05-19 12:19:58</td>\n",
       "      <td>2024-06-07 21:47:39</td>\n",
       "      <td>17039512</td>\n",
       "      <td></td>\n",
       "    </tr>\n",
       "    <tr>\n",
       "      <th>10</th>\n",
       "      <td>11</td>\n",
       "      <td>lazygit.tar.gz</td>\n",
       "      <td>.gz</td>\n",
       "      <td>/home/ramon/Downloads/lazygit.tar.gz</td>\n",
       "      <td>2024-06-07 21:47:39</td>\n",
       "      <td>2024-06-07 21:47:39</td>\n",
       "      <td>5912440</td>\n",
       "      <td></td>\n",
       "    </tr>\n",
       "  </tbody>\n",
       "</table>\n",
       "</div>"
      ],
      "text/plain": [
       "    Laufende Nummer                      Dateiname Dateiendung  \\\n",
       "0                 1              SourceCodePro.zip        .zip   \n",
       "1                 2                   FiraCode.zip        .zip   \n",
       "2                 3  Obsidian-1.6.3-arm64.AppImage   .AppImage   \n",
       "3                 4                  Obisidian.png        .png   \n",
       "4                 5                install_log.txt        .txt   \n",
       "5                 6         catppuccin_mocha.theme      .theme   \n",
       "6                 7                setup_raspi5.sh         .sh   \n",
       "7                 8              JetBrainsMono.zip        .zip   \n",
       "8                 9             setup_raspi5_II.sh         .sh   \n",
       "9                10                        lazygit               \n",
       "10               11                 lazygit.tar.gz         .gz   \n",
       "\n",
       "                                            Dateipfad       Änderungsdatum  \\\n",
       "0             /home/ramon/Downloads/SourceCodePro.zip  2024-05-31 18:06:17   \n",
       "1                  /home/ramon/Downloads/FiraCode.zip  2024-05-31 18:07:50   \n",
       "2   /home/ramon/Downloads/Obsidian-1.6.3-arm64.App...  2024-06-10 20:42:44   \n",
       "3                 /home/ramon/Downloads/Obisidian.png  2024-06-11 19:03:38   \n",
       "4               /home/ramon/Downloads/install_log.txt  2024-06-07 19:00:02   \n",
       "5        /home/ramon/Downloads/catppuccin_mocha.theme  2024-05-31 20:35:26   \n",
       "6               /home/ramon/Downloads/setup_raspi5.sh  2024-06-12 11:16:19   \n",
       "7             /home/ramon/Downloads/JetBrainsMono.zip  2024-06-12 11:03:38   \n",
       "8            /home/ramon/Downloads/setup_raspi5_II.sh  2024-06-12 11:17:35   \n",
       "9                       /home/ramon/Downloads/lazygit  2024-05-19 12:19:58   \n",
       "10               /home/ramon/Downloads/lazygit.tar.gz  2024-06-07 21:47:39   \n",
       "\n",
       "       Erstellungsdatum  Dateigröße (Bytes) Bemerkungen  \n",
       "0   2024-05-31 18:06:17            50842511              \n",
       "1   2024-05-31 18:07:50            24978177              \n",
       "2   2024-06-10 20:42:44           113375411              \n",
       "3   2024-06-11 19:03:53               43530              \n",
       "4   2024-06-07 19:00:02                 296              \n",
       "5   2024-05-31 20:35:26                2277              \n",
       "6   2024-06-12 11:16:19                5986              \n",
       "7   2024-06-12 11:03:39           117875043              \n",
       "8   2024-06-12 11:17:35                1484              \n",
       "9   2024-06-07 21:47:39            17039512              \n",
       "10  2024-06-07 21:47:39             5912440              "
      ]
     },
     "execution_count": 7,
     "metadata": {},
     "output_type": "execute_result"
    }
   ],
   "source": [
    "df = pd.DataFrame(file_info_list)\n",
    "df"
   ]
  },
  {
   "cell_type": "markdown",
   "id": "680b8bfd-b462-4712-9433-0e695ef127fb",
   "metadata": {},
   "source": [
    "Zum Speichern des Dataframes kann eine Excel-Datei erstellt werden:"
   ]
  },
  {
   "cell_type": "code",
   "execution_count": 8,
   "id": "815d97fb-4cb2-42c6-9ae8-6b718c5f082b",
   "metadata": {},
   "outputs": [],
   "source": [
    "output_file = \"output.xlsx\"\n",
    "df.to_excel(output_file, index=False)"
   ]
  },
  {
   "cell_type": "code",
   "execution_count": null,
   "id": "80bbcb90-cc57-4ee5-8210-984732f93cd0",
   "metadata": {},
   "outputs": [],
   "source": []
  }
 ],
 "metadata": {
  "kernelspec": {
   "display_name": "Python 3 (ipykernel)",
   "language": "python",
   "name": "python3"
  },
  "language_info": {
   "codemirror_mode": {
    "name": "ipython",
    "version": 3
   },
   "file_extension": ".py",
   "mimetype": "text/x-python",
   "name": "python",
   "nbconvert_exporter": "python",
   "pygments_lexer": "ipython3",
   "version": "3.11.2"
  }
 },
 "nbformat": 4,
 "nbformat_minor": 5
}
